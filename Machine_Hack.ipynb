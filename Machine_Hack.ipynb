{
 "cells": [
  {
   "cell_type": "code",
   "execution_count": 362,
   "metadata": {},
   "outputs": [],
   "source": [
    "import pandas as pd\n",
    "import numpy as np\n",
    "import seaborn as sns\n",
    "import matplotlib.pyplot as plt\n"
   ]
  },
  {
   "cell_type": "code",
   "execution_count": 363,
   "metadata": {},
   "outputs": [],
   "source": [
    "train= pd.read_csv(\"Train.csv\")\n",
    "test= pd.read_csv(\"Test.csv\")"
   ]
  },
  {
   "cell_type": "code",
   "execution_count": 364,
   "metadata": {},
   "outputs": [
    {
     "data": {
      "text/plain": [
       "InvoiceNo        int64\n",
       "StockCode        int64\n",
       "Description      int64\n",
       "Quantity         int64\n",
       "InvoiceDate     object\n",
       "UnitPrice      float64\n",
       "CustomerID     float64\n",
       "Country          int64\n",
       "dtype: object"
      ]
     },
     "execution_count": 364,
     "metadata": {},
     "output_type": "execute_result"
    }
   ],
   "source": [
    "train.dtypes"
   ]
  },
  {
   "cell_type": "code",
   "execution_count": 365,
   "metadata": {},
   "outputs": [
    {
     "data": {
      "text/plain": [
       "(284780, 8)"
      ]
     },
     "execution_count": 365,
     "metadata": {},
     "output_type": "execute_result"
    }
   ],
   "source": [
    "train.shape"
   ]
  },
  {
   "cell_type": "code",
   "execution_count": 366,
   "metadata": {},
   "outputs": [
    {
     "data": {
      "text/html": [
       "<div>\n",
       "<style scoped>\n",
       "    .dataframe tbody tr th:only-of-type {\n",
       "        vertical-align: middle;\n",
       "    }\n",
       "\n",
       "    .dataframe tbody tr th {\n",
       "        vertical-align: top;\n",
       "    }\n",
       "\n",
       "    .dataframe thead th {\n",
       "        text-align: right;\n",
       "    }\n",
       "</style>\n",
       "<table border=\"1\" class=\"dataframe\">\n",
       "  <thead>\n",
       "    <tr style=\"text-align: right;\">\n",
       "      <th></th>\n",
       "      <th>InvoiceNo</th>\n",
       "      <th>StockCode</th>\n",
       "      <th>Description</th>\n",
       "      <th>Quantity</th>\n",
       "      <th>InvoiceDate</th>\n",
       "      <th>UnitPrice</th>\n",
       "      <th>CustomerID</th>\n",
       "      <th>Country</th>\n",
       "    </tr>\n",
       "  </thead>\n",
       "  <tbody>\n",
       "    <tr>\n",
       "      <th>0</th>\n",
       "      <td>6141</td>\n",
       "      <td>1583</td>\n",
       "      <td>144</td>\n",
       "      <td>3</td>\n",
       "      <td>2011-05-06 16:54:00</td>\n",
       "      <td>3.75</td>\n",
       "      <td>14056.0</td>\n",
       "      <td>35</td>\n",
       "    </tr>\n",
       "    <tr>\n",
       "      <th>1</th>\n",
       "      <td>6349</td>\n",
       "      <td>1300</td>\n",
       "      <td>3682</td>\n",
       "      <td>6</td>\n",
       "      <td>2011-05-11 07:35:00</td>\n",
       "      <td>1.95</td>\n",
       "      <td>13098.0</td>\n",
       "      <td>35</td>\n",
       "    </tr>\n",
       "    <tr>\n",
       "      <th>2</th>\n",
       "      <td>16783</td>\n",
       "      <td>2178</td>\n",
       "      <td>1939</td>\n",
       "      <td>4</td>\n",
       "      <td>2011-11-20 13:20:00</td>\n",
       "      <td>5.95</td>\n",
       "      <td>15044.0</td>\n",
       "      <td>35</td>\n",
       "    </tr>\n",
       "    <tr>\n",
       "      <th>3</th>\n",
       "      <td>16971</td>\n",
       "      <td>2115</td>\n",
       "      <td>2983</td>\n",
       "      <td>1</td>\n",
       "      <td>2011-11-22 12:07:00</td>\n",
       "      <td>0.83</td>\n",
       "      <td>15525.0</td>\n",
       "      <td>35</td>\n",
       "    </tr>\n",
       "    <tr>\n",
       "      <th>4</th>\n",
       "      <td>6080</td>\n",
       "      <td>1210</td>\n",
       "      <td>2886</td>\n",
       "      <td>12</td>\n",
       "      <td>2011-05-06 09:00:00</td>\n",
       "      <td>1.65</td>\n",
       "      <td>13952.0</td>\n",
       "      <td>35</td>\n",
       "    </tr>\n",
       "    <tr>\n",
       "      <th>5</th>\n",
       "      <td>17388</td>\n",
       "      <td>495</td>\n",
       "      <td>3247</td>\n",
       "      <td>5</td>\n",
       "      <td>2011-11-27 12:52:00</td>\n",
       "      <td>1.65</td>\n",
       "      <td>15351.0</td>\n",
       "      <td>35</td>\n",
       "    </tr>\n",
       "    <tr>\n",
       "      <th>6</th>\n",
       "      <td>18494</td>\n",
       "      <td>165</td>\n",
       "      <td>3377</td>\n",
       "      <td>1</td>\n",
       "      <td>2011-12-08 20:01:00</td>\n",
       "      <td>1.25</td>\n",
       "      <td>12748.0</td>\n",
       "      <td>35</td>\n",
       "    </tr>\n",
       "    <tr>\n",
       "      <th>7</th>\n",
       "      <td>17109</td>\n",
       "      <td>2597</td>\n",
       "      <td>3435</td>\n",
       "      <td>1</td>\n",
       "      <td>2011-11-23 12:40:00</td>\n",
       "      <td>1.25</td>\n",
       "      <td>16255.0</td>\n",
       "      <td>35</td>\n",
       "    </tr>\n",
       "    <tr>\n",
       "      <th>8</th>\n",
       "      <td>17143</td>\n",
       "      <td>1945</td>\n",
       "      <td>2352</td>\n",
       "      <td>1</td>\n",
       "      <td>2011-11-23 14:07:00</td>\n",
       "      <td>5.75</td>\n",
       "      <td>17841.0</td>\n",
       "      <td>35</td>\n",
       "    </tr>\n",
       "    <tr>\n",
       "      <th>9</th>\n",
       "      <td>8422</td>\n",
       "      <td>3311</td>\n",
       "      <td>2502</td>\n",
       "      <td>6</td>\n",
       "      <td>2011-06-22 10:11:00</td>\n",
       "      <td>2.95</td>\n",
       "      <td>13849.0</td>\n",
       "      <td>35</td>\n",
       "    </tr>\n",
       "  </tbody>\n",
       "</table>\n",
       "</div>"
      ],
      "text/plain": [
       "   InvoiceNo  StockCode  Description  Quantity          InvoiceDate  \\\n",
       "0       6141       1583          144         3  2011-05-06 16:54:00   \n",
       "1       6349       1300         3682         6  2011-05-11 07:35:00   \n",
       "2      16783       2178         1939         4  2011-11-20 13:20:00   \n",
       "3      16971       2115         2983         1  2011-11-22 12:07:00   \n",
       "4       6080       1210         2886        12  2011-05-06 09:00:00   \n",
       "5      17388        495         3247         5  2011-11-27 12:52:00   \n",
       "6      18494        165         3377         1  2011-12-08 20:01:00   \n",
       "7      17109       2597         3435         1  2011-11-23 12:40:00   \n",
       "8      17143       1945         2352         1  2011-11-23 14:07:00   \n",
       "9       8422       3311         2502         6  2011-06-22 10:11:00   \n",
       "\n",
       "   UnitPrice  CustomerID  Country  \n",
       "0       3.75     14056.0       35  \n",
       "1       1.95     13098.0       35  \n",
       "2       5.95     15044.0       35  \n",
       "3       0.83     15525.0       35  \n",
       "4       1.65     13952.0       35  \n",
       "5       1.65     15351.0       35  \n",
       "6       1.25     12748.0       35  \n",
       "7       1.25     16255.0       35  \n",
       "8       5.75     17841.0       35  \n",
       "9       2.95     13849.0       35  "
      ]
     },
     "execution_count": 366,
     "metadata": {},
     "output_type": "execute_result"
    }
   ],
   "source": [
    "train.head(10)"
   ]
  },
  {
   "cell_type": "code",
   "execution_count": 367,
   "metadata": {},
   "outputs": [
    {
     "name": "stdout",
     "output_type": "stream",
     "text": [
      "InvoiceNo      0\n",
      "StockCode      0\n",
      "Description    0\n",
      "Quantity       0\n",
      "InvoiceDate    0\n",
      "CustomerID     0\n",
      "Country        0\n",
      "dtype: int64\n",
      "InvoiceNo      0\n",
      "StockCode      0\n",
      "Description    0\n",
      "Quantity       0\n",
      "InvoiceDate    0\n",
      "UnitPrice      0\n",
      "CustomerID     0\n",
      "Country        0\n",
      "dtype: int64\n"
     ]
    }
   ],
   "source": [
    "print(test.isnull().sum())\n",
    "print(train.isnull().sum())"
   ]
  },
  {
   "cell_type": "code",
   "execution_count": 368,
   "metadata": {},
   "outputs": [
    {
     "data": {
      "text/plain": [
       "['InvoiceDate']"
      ]
     },
     "execution_count": 368,
     "metadata": {},
     "output_type": "execute_result"
    }
   ],
   "source": [
    "object_cols = [col for col in train.columns if train[col].dtype == \"object\"]\n",
    "object_cols"
   ]
  },
  {
   "cell_type": "code",
   "execution_count": 369,
   "metadata": {},
   "outputs": [],
   "source": [
    "try_train= train.select_dtypes(exclude=\"object\")"
   ]
  },
  {
   "cell_type": "code",
   "execution_count": 370,
   "metadata": {},
   "outputs": [
    {
     "name": "stdout",
     "output_type": "stream",
     "text": [
      "             InvoiceNo  StockCode  Description  Quantity  UnitPrice  \\\n",
      "InvoiceNo     1.000000   0.086809     0.024804 -0.008363   0.007927   \n",
      "StockCode     0.086809   1.000000    -0.013230 -0.000942   0.020073   \n",
      "Description   0.024804  -0.013230     1.000000  0.000194  -0.000424   \n",
      "Quantity     -0.008363  -0.000942     0.000194  1.000000  -0.000924   \n",
      "UnitPrice     0.007927   0.020073    -0.000424 -0.000924   1.000000   \n",
      "CustomerID   -0.007463   0.002887    -0.005227 -0.002930  -0.004932   \n",
      "Country       0.005432   0.006242    -0.014791 -0.008001  -0.005378   \n",
      "\n",
      "             CustomerID   Country  \n",
      "InvoiceNo     -0.007463  0.005432  \n",
      "StockCode      0.002887  0.006242  \n",
      "Description   -0.005227 -0.014791  \n",
      "Quantity      -0.002930 -0.008001  \n",
      "UnitPrice     -0.004932 -0.005378  \n",
      "CustomerID     1.000000  0.388198  \n",
      "Country        0.388198  1.000000  \n"
     ]
    }
   ],
   "source": [
    "print(try_train.corr())"
   ]
  },
  {
   "cell_type": "code",
   "execution_count": 371,
   "metadata": {},
   "outputs": [
    {
     "data": {
      "text/plain": [
       "37"
      ]
     },
     "execution_count": 371,
     "metadata": {},
     "output_type": "execute_result"
    }
   ],
   "source": [
    "train[\"Country\"].nunique()"
   ]
  },
  {
   "cell_type": "code",
   "execution_count": 372,
   "metadata": {},
   "outputs": [
    {
     "data": {
      "text/plain": [
       "4339"
      ]
     },
     "execution_count": 372,
     "metadata": {},
     "output_type": "execute_result"
    }
   ],
   "source": [
    "train[\"CustomerID\"].nunique()"
   ]
  },
  {
   "cell_type": "code",
   "execution_count": 373,
   "metadata": {},
   "outputs": [
    {
     "data": {
      "text/plain": [
       "3619"
      ]
     },
     "execution_count": 373,
     "metadata": {},
     "output_type": "execute_result"
    }
   ],
   "source": [
    "train['StockCode'].nunique()"
   ]
  },
  {
   "cell_type": "code",
   "execution_count": 374,
   "metadata": {},
   "outputs": [
    {
     "data": {
      "text/plain": [
       "InvoiceNo      20971\n",
       "StockCode       3619\n",
       "Description     3819\n",
       "Quantity         373\n",
       "InvoiceDate    19451\n",
       "UnitPrice        524\n",
       "CustomerID      4339\n",
       "Country           37\n",
       "dtype: int64"
      ]
     },
     "execution_count": 374,
     "metadata": {},
     "output_type": "execute_result"
    }
   ],
   "source": [
    "train.nunique()"
   ]
  },
  {
   "cell_type": "code",
   "execution_count": 375,
   "metadata": {},
   "outputs": [],
   "source": [
    "train[\"InvoiceDate\"]=pd.to_datetime(train.InvoiceDate)\n",
    "test[\"InvoiceDate\"]=pd.to_datetime(test.InvoiceDate)"
   ]
  },
  {
   "cell_type": "code",
   "execution_count": 376,
   "metadata": {},
   "outputs": [
    {
     "data": {
      "text/plain": [
       "InvoiceNo               int64\n",
       "StockCode               int64\n",
       "Description             int64\n",
       "Quantity                int64\n",
       "InvoiceDate    datetime64[ns]\n",
       "UnitPrice             float64\n",
       "CustomerID            float64\n",
       "Country                 int64\n",
       "dtype: object"
      ]
     },
     "execution_count": 376,
     "metadata": {},
     "output_type": "execute_result"
    }
   ],
   "source": [
    "train.dtypes"
   ]
  },
  {
   "cell_type": "code",
   "execution_count": 377,
   "metadata": {},
   "outputs": [],
   "source": [
    "hour=train.InvoiceDate.dt.hour\n",
    "minute=train.InvoiceDate.dt.minute\n",
    "year=train.InvoiceDate.dt.year\n",
    "month=train.InvoiceDate.dt.month\n",
    "date=train.InvoiceDate.dt.day\n"
   ]
  },
  {
   "cell_type": "code",
   "execution_count": 378,
   "metadata": {},
   "outputs": [],
   "source": [
    "UnitPrice=train.UnitPrice"
   ]
  },
  {
   "cell_type": "code",
   "execution_count": 379,
   "metadata": {},
   "outputs": [
    {
     "data": {
      "text/plain": [
       "0         3.75\n",
       "1         1.95\n",
       "2         5.95\n",
       "3         0.83\n",
       "4         1.65\n",
       "          ... \n",
       "284775    1.65\n",
       "284776    0.65\n",
       "284777    8.50\n",
       "284778    3.45\n",
       "284779    0.75\n",
       "Name: UnitPrice, Length: 284780, dtype: float64"
      ]
     },
     "execution_count": 379,
     "metadata": {},
     "output_type": "execute_result"
    }
   ],
   "source": [
    "UnitPrice"
   ]
  },
  {
   "cell_type": "code",
   "execution_count": 380,
   "metadata": {},
   "outputs": [],
   "source": [
    "trail= pd.concat([hour,minute,year,month,date],axis=1)"
   ]
  },
  {
   "cell_type": "code",
   "execution_count": 381,
   "metadata": {},
   "outputs": [],
   "source": [
    "trail.columns=['Hour', 'Minute',\"Year\",\"Month\",\"Date\"]"
   ]
  },
  {
   "cell_type": "code",
   "execution_count": 382,
   "metadata": {},
   "outputs": [
    {
     "data": {
      "text/html": [
       "<div>\n",
       "<style scoped>\n",
       "    .dataframe tbody tr th:only-of-type {\n",
       "        vertical-align: middle;\n",
       "    }\n",
       "\n",
       "    .dataframe tbody tr th {\n",
       "        vertical-align: top;\n",
       "    }\n",
       "\n",
       "    .dataframe thead th {\n",
       "        text-align: right;\n",
       "    }\n",
       "</style>\n",
       "<table border=\"1\" class=\"dataframe\">\n",
       "  <thead>\n",
       "    <tr style=\"text-align: right;\">\n",
       "      <th></th>\n",
       "      <th>Hour</th>\n",
       "      <th>Minute</th>\n",
       "      <th>Year</th>\n",
       "      <th>Month</th>\n",
       "      <th>Date</th>\n",
       "    </tr>\n",
       "  </thead>\n",
       "  <tbody>\n",
       "    <tr>\n",
       "      <th>0</th>\n",
       "      <td>16</td>\n",
       "      <td>54</td>\n",
       "      <td>2011</td>\n",
       "      <td>5</td>\n",
       "      <td>6</td>\n",
       "    </tr>\n",
       "    <tr>\n",
       "      <th>1</th>\n",
       "      <td>7</td>\n",
       "      <td>35</td>\n",
       "      <td>2011</td>\n",
       "      <td>5</td>\n",
       "      <td>11</td>\n",
       "    </tr>\n",
       "    <tr>\n",
       "      <th>2</th>\n",
       "      <td>13</td>\n",
       "      <td>20</td>\n",
       "      <td>2011</td>\n",
       "      <td>11</td>\n",
       "      <td>20</td>\n",
       "    </tr>\n",
       "    <tr>\n",
       "      <th>3</th>\n",
       "      <td>12</td>\n",
       "      <td>7</td>\n",
       "      <td>2011</td>\n",
       "      <td>11</td>\n",
       "      <td>22</td>\n",
       "    </tr>\n",
       "    <tr>\n",
       "      <th>4</th>\n",
       "      <td>9</td>\n",
       "      <td>0</td>\n",
       "      <td>2011</td>\n",
       "      <td>5</td>\n",
       "      <td>6</td>\n",
       "    </tr>\n",
       "    <tr>\n",
       "      <th>...</th>\n",
       "      <td>...</td>\n",
       "      <td>...</td>\n",
       "      <td>...</td>\n",
       "      <td>...</td>\n",
       "      <td>...</td>\n",
       "    </tr>\n",
       "    <tr>\n",
       "      <th>284775</th>\n",
       "      <td>12</td>\n",
       "      <td>7</td>\n",
       "      <td>2011</td>\n",
       "      <td>3</td>\n",
       "      <td>1</td>\n",
       "    </tr>\n",
       "    <tr>\n",
       "      <th>284776</th>\n",
       "      <td>15</td>\n",
       "      <td>8</td>\n",
       "      <td>2011</td>\n",
       "      <td>10</td>\n",
       "      <td>13</td>\n",
       "    </tr>\n",
       "    <tr>\n",
       "      <th>284777</th>\n",
       "      <td>12</td>\n",
       "      <td>59</td>\n",
       "      <td>2011</td>\n",
       "      <td>5</td>\n",
       "      <td>16</td>\n",
       "    </tr>\n",
       "    <tr>\n",
       "      <th>284778</th>\n",
       "      <td>14</td>\n",
       "      <td>18</td>\n",
       "      <td>2011</td>\n",
       "      <td>10</td>\n",
       "      <td>11</td>\n",
       "    </tr>\n",
       "    <tr>\n",
       "      <th>284779</th>\n",
       "      <td>13</td>\n",
       "      <td>30</td>\n",
       "      <td>2011</td>\n",
       "      <td>8</td>\n",
       "      <td>22</td>\n",
       "    </tr>\n",
       "  </tbody>\n",
       "</table>\n",
       "<p>284780 rows × 5 columns</p>\n",
       "</div>"
      ],
      "text/plain": [
       "        Hour  Minute  Year  Month  Date\n",
       "0         16      54  2011      5     6\n",
       "1          7      35  2011      5    11\n",
       "2         13      20  2011     11    20\n",
       "3         12       7  2011     11    22\n",
       "4          9       0  2011      5     6\n",
       "...      ...     ...   ...    ...   ...\n",
       "284775    12       7  2011      3     1\n",
       "284776    15       8  2011     10    13\n",
       "284777    12      59  2011      5    16\n",
       "284778    14      18  2011     10    11\n",
       "284779    13      30  2011      8    22\n",
       "\n",
       "[284780 rows x 5 columns]"
      ]
     },
     "execution_count": 382,
     "metadata": {},
     "output_type": "execute_result"
    }
   ],
   "source": [
    "trail"
   ]
  },
  {
   "cell_type": "code",
   "execution_count": 383,
   "metadata": {},
   "outputs": [],
   "source": [
    "TRY_Train=pd.concat([try_train,trail],axis=1)\n"
   ]
  },
  {
   "cell_type": "code",
   "execution_count": 384,
   "metadata": {},
   "outputs": [
    {
     "data": {
      "text/html": [
       "<div>\n",
       "<style scoped>\n",
       "    .dataframe tbody tr th:only-of-type {\n",
       "        vertical-align: middle;\n",
       "    }\n",
       "\n",
       "    .dataframe tbody tr th {\n",
       "        vertical-align: top;\n",
       "    }\n",
       "\n",
       "    .dataframe thead th {\n",
       "        text-align: right;\n",
       "    }\n",
       "</style>\n",
       "<table border=\"1\" class=\"dataframe\">\n",
       "  <thead>\n",
       "    <tr style=\"text-align: right;\">\n",
       "      <th></th>\n",
       "      <th>InvoiceNo</th>\n",
       "      <th>StockCode</th>\n",
       "      <th>Description</th>\n",
       "      <th>Quantity</th>\n",
       "      <th>UnitPrice</th>\n",
       "      <th>CustomerID</th>\n",
       "      <th>Country</th>\n",
       "      <th>Hour</th>\n",
       "      <th>Minute</th>\n",
       "      <th>Year</th>\n",
       "      <th>Month</th>\n",
       "      <th>Date</th>\n",
       "    </tr>\n",
       "  </thead>\n",
       "  <tbody>\n",
       "    <tr>\n",
       "      <th>0</th>\n",
       "      <td>6141</td>\n",
       "      <td>1583</td>\n",
       "      <td>144</td>\n",
       "      <td>3</td>\n",
       "      <td>3.75</td>\n",
       "      <td>14056.0</td>\n",
       "      <td>35</td>\n",
       "      <td>16</td>\n",
       "      <td>54</td>\n",
       "      <td>2011</td>\n",
       "      <td>5</td>\n",
       "      <td>6</td>\n",
       "    </tr>\n",
       "    <tr>\n",
       "      <th>1</th>\n",
       "      <td>6349</td>\n",
       "      <td>1300</td>\n",
       "      <td>3682</td>\n",
       "      <td>6</td>\n",
       "      <td>1.95</td>\n",
       "      <td>13098.0</td>\n",
       "      <td>35</td>\n",
       "      <td>7</td>\n",
       "      <td>35</td>\n",
       "      <td>2011</td>\n",
       "      <td>5</td>\n",
       "      <td>11</td>\n",
       "    </tr>\n",
       "    <tr>\n",
       "      <th>2</th>\n",
       "      <td>16783</td>\n",
       "      <td>2178</td>\n",
       "      <td>1939</td>\n",
       "      <td>4</td>\n",
       "      <td>5.95</td>\n",
       "      <td>15044.0</td>\n",
       "      <td>35</td>\n",
       "      <td>13</td>\n",
       "      <td>20</td>\n",
       "      <td>2011</td>\n",
       "      <td>11</td>\n",
       "      <td>20</td>\n",
       "    </tr>\n",
       "    <tr>\n",
       "      <th>3</th>\n",
       "      <td>16971</td>\n",
       "      <td>2115</td>\n",
       "      <td>2983</td>\n",
       "      <td>1</td>\n",
       "      <td>0.83</td>\n",
       "      <td>15525.0</td>\n",
       "      <td>35</td>\n",
       "      <td>12</td>\n",
       "      <td>7</td>\n",
       "      <td>2011</td>\n",
       "      <td>11</td>\n",
       "      <td>22</td>\n",
       "    </tr>\n",
       "    <tr>\n",
       "      <th>4</th>\n",
       "      <td>6080</td>\n",
       "      <td>1210</td>\n",
       "      <td>2886</td>\n",
       "      <td>12</td>\n",
       "      <td>1.65</td>\n",
       "      <td>13952.0</td>\n",
       "      <td>35</td>\n",
       "      <td>9</td>\n",
       "      <td>0</td>\n",
       "      <td>2011</td>\n",
       "      <td>5</td>\n",
       "      <td>6</td>\n",
       "    </tr>\n",
       "    <tr>\n",
       "      <th>...</th>\n",
       "      <td>...</td>\n",
       "      <td>...</td>\n",
       "      <td>...</td>\n",
       "      <td>...</td>\n",
       "      <td>...</td>\n",
       "      <td>...</td>\n",
       "      <td>...</td>\n",
       "      <td>...</td>\n",
       "      <td>...</td>\n",
       "      <td>...</td>\n",
       "      <td>...</td>\n",
       "      <td>...</td>\n",
       "    </tr>\n",
       "    <tr>\n",
       "      <th>284775</th>\n",
       "      <td>3408</td>\n",
       "      <td>1706</td>\n",
       "      <td>1081</td>\n",
       "      <td>6</td>\n",
       "      <td>1.65</td>\n",
       "      <td>17965.0</td>\n",
       "      <td>35</td>\n",
       "      <td>12</td>\n",
       "      <td>7</td>\n",
       "      <td>2011</td>\n",
       "      <td>3</td>\n",
       "      <td>1</td>\n",
       "    </tr>\n",
       "    <tr>\n",
       "      <th>284776</th>\n",
       "      <td>13982</td>\n",
       "      <td>2184</td>\n",
       "      <td>2947</td>\n",
       "      <td>16</td>\n",
       "      <td>0.65</td>\n",
       "      <td>16793.0</td>\n",
       "      <td>35</td>\n",
       "      <td>15</td>\n",
       "      <td>8</td>\n",
       "      <td>2011</td>\n",
       "      <td>10</td>\n",
       "      <td>13</td>\n",
       "    </tr>\n",
       "    <tr>\n",
       "      <th>284777</th>\n",
       "      <td>6641</td>\n",
       "      <td>667</td>\n",
       "      <td>3632</td>\n",
       "      <td>4</td>\n",
       "      <td>8.50</td>\n",
       "      <td>14755.0</td>\n",
       "      <td>35</td>\n",
       "      <td>12</td>\n",
       "      <td>59</td>\n",
       "      <td>2011</td>\n",
       "      <td>5</td>\n",
       "      <td>16</td>\n",
       "    </tr>\n",
       "    <tr>\n",
       "      <th>284778</th>\n",
       "      <td>13820</td>\n",
       "      <td>1576</td>\n",
       "      <td>3089</td>\n",
       "      <td>48</td>\n",
       "      <td>3.45</td>\n",
       "      <td>14866.0</td>\n",
       "      <td>35</td>\n",
       "      <td>14</td>\n",
       "      <td>18</td>\n",
       "      <td>2011</td>\n",
       "      <td>10</td>\n",
       "      <td>11</td>\n",
       "    </tr>\n",
       "    <tr>\n",
       "      <th>284779</th>\n",
       "      <td>11042</td>\n",
       "      <td>2603</td>\n",
       "      <td>1156</td>\n",
       "      <td>2</td>\n",
       "      <td>0.75</td>\n",
       "      <td>17585.0</td>\n",
       "      <td>35</td>\n",
       "      <td>13</td>\n",
       "      <td>30</td>\n",
       "      <td>2011</td>\n",
       "      <td>8</td>\n",
       "      <td>22</td>\n",
       "    </tr>\n",
       "  </tbody>\n",
       "</table>\n",
       "<p>284780 rows × 12 columns</p>\n",
       "</div>"
      ],
      "text/plain": [
       "        InvoiceNo  StockCode  Description  Quantity  UnitPrice  CustomerID  \\\n",
       "0            6141       1583          144         3       3.75     14056.0   \n",
       "1            6349       1300         3682         6       1.95     13098.0   \n",
       "2           16783       2178         1939         4       5.95     15044.0   \n",
       "3           16971       2115         2983         1       0.83     15525.0   \n",
       "4            6080       1210         2886        12       1.65     13952.0   \n",
       "...           ...        ...          ...       ...        ...         ...   \n",
       "284775       3408       1706         1081         6       1.65     17965.0   \n",
       "284776      13982       2184         2947        16       0.65     16793.0   \n",
       "284777       6641        667         3632         4       8.50     14755.0   \n",
       "284778      13820       1576         3089        48       3.45     14866.0   \n",
       "284779      11042       2603         1156         2       0.75     17585.0   \n",
       "\n",
       "        Country  Hour  Minute  Year  Month  Date  \n",
       "0            35    16      54  2011      5     6  \n",
       "1            35     7      35  2011      5    11  \n",
       "2            35    13      20  2011     11    20  \n",
       "3            35    12       7  2011     11    22  \n",
       "4            35     9       0  2011      5     6  \n",
       "...         ...   ...     ...   ...    ...   ...  \n",
       "284775       35    12       7  2011      3     1  \n",
       "284776       35    15       8  2011     10    13  \n",
       "284777       35    12      59  2011      5    16  \n",
       "284778       35    14      18  2011     10    11  \n",
       "284779       35    13      30  2011      8    22  \n",
       "\n",
       "[284780 rows x 12 columns]"
      ]
     },
     "execution_count": 384,
     "metadata": {},
     "output_type": "execute_result"
    }
   ],
   "source": [
    "TRY_Train"
   ]
  },
  {
   "cell_type": "code",
   "execution_count": 385,
   "metadata": {},
   "outputs": [
    {
     "name": "stdout",
     "output_type": "stream",
     "text": [
      "           InvoiceNo  StockCode      Hour      Year\n",
      "InvoiceNo   1.000000   0.086809  0.051381  0.422249\n",
      "StockCode   0.086809   1.000000  0.004766  0.030964\n",
      "Hour        0.051381   0.004766  1.000000 -0.020093\n",
      "Year        0.422249   0.030964 -0.020093  1.000000\n"
     ]
    }
   ],
   "source": [
    "print(Train.corr())"
   ]
  },
  {
   "cell_type": "code",
   "execution_count": 386,
   "metadata": {},
   "outputs": [],
   "source": [
    "Train=TRY_Train.drop(columns=[\"Description\",\"Quantity\",\"CustomerID\",\"Country\",\"Minute\",\"Month\",\"Date\",\"UnitPrice\"])"
   ]
  },
  {
   "cell_type": "code",
   "execution_count": 387,
   "metadata": {},
   "outputs": [
    {
     "data": {
      "text/html": [
       "<div>\n",
       "<style scoped>\n",
       "    .dataframe tbody tr th:only-of-type {\n",
       "        vertical-align: middle;\n",
       "    }\n",
       "\n",
       "    .dataframe tbody tr th {\n",
       "        vertical-align: top;\n",
       "    }\n",
       "\n",
       "    .dataframe thead th {\n",
       "        text-align: right;\n",
       "    }\n",
       "</style>\n",
       "<table border=\"1\" class=\"dataframe\">\n",
       "  <thead>\n",
       "    <tr style=\"text-align: right;\">\n",
       "      <th></th>\n",
       "      <th>InvoiceNo</th>\n",
       "      <th>StockCode</th>\n",
       "      <th>Hour</th>\n",
       "      <th>Year</th>\n",
       "    </tr>\n",
       "  </thead>\n",
       "  <tbody>\n",
       "    <tr>\n",
       "      <th>0</th>\n",
       "      <td>6141</td>\n",
       "      <td>1583</td>\n",
       "      <td>16</td>\n",
       "      <td>2011</td>\n",
       "    </tr>\n",
       "    <tr>\n",
       "      <th>1</th>\n",
       "      <td>6349</td>\n",
       "      <td>1300</td>\n",
       "      <td>7</td>\n",
       "      <td>2011</td>\n",
       "    </tr>\n",
       "    <tr>\n",
       "      <th>2</th>\n",
       "      <td>16783</td>\n",
       "      <td>2178</td>\n",
       "      <td>13</td>\n",
       "      <td>2011</td>\n",
       "    </tr>\n",
       "    <tr>\n",
       "      <th>3</th>\n",
       "      <td>16971</td>\n",
       "      <td>2115</td>\n",
       "      <td>12</td>\n",
       "      <td>2011</td>\n",
       "    </tr>\n",
       "    <tr>\n",
       "      <th>4</th>\n",
       "      <td>6080</td>\n",
       "      <td>1210</td>\n",
       "      <td>9</td>\n",
       "      <td>2011</td>\n",
       "    </tr>\n",
       "    <tr>\n",
       "      <th>...</th>\n",
       "      <td>...</td>\n",
       "      <td>...</td>\n",
       "      <td>...</td>\n",
       "      <td>...</td>\n",
       "    </tr>\n",
       "    <tr>\n",
       "      <th>284775</th>\n",
       "      <td>3408</td>\n",
       "      <td>1706</td>\n",
       "      <td>12</td>\n",
       "      <td>2011</td>\n",
       "    </tr>\n",
       "    <tr>\n",
       "      <th>284776</th>\n",
       "      <td>13982</td>\n",
       "      <td>2184</td>\n",
       "      <td>15</td>\n",
       "      <td>2011</td>\n",
       "    </tr>\n",
       "    <tr>\n",
       "      <th>284777</th>\n",
       "      <td>6641</td>\n",
       "      <td>667</td>\n",
       "      <td>12</td>\n",
       "      <td>2011</td>\n",
       "    </tr>\n",
       "    <tr>\n",
       "      <th>284778</th>\n",
       "      <td>13820</td>\n",
       "      <td>1576</td>\n",
       "      <td>14</td>\n",
       "      <td>2011</td>\n",
       "    </tr>\n",
       "    <tr>\n",
       "      <th>284779</th>\n",
       "      <td>11042</td>\n",
       "      <td>2603</td>\n",
       "      <td>13</td>\n",
       "      <td>2011</td>\n",
       "    </tr>\n",
       "  </tbody>\n",
       "</table>\n",
       "<p>284780 rows × 4 columns</p>\n",
       "</div>"
      ],
      "text/plain": [
       "        InvoiceNo  StockCode  Hour  Year\n",
       "0            6141       1583    16  2011\n",
       "1            6349       1300     7  2011\n",
       "2           16783       2178    13  2011\n",
       "3           16971       2115    12  2011\n",
       "4            6080       1210     9  2011\n",
       "...           ...        ...   ...   ...\n",
       "284775       3408       1706    12  2011\n",
       "284776      13982       2184    15  2011\n",
       "284777       6641        667    12  2011\n",
       "284778      13820       1576    14  2011\n",
       "284779      11042       2603    13  2011\n",
       "\n",
       "[284780 rows x 4 columns]"
      ]
     },
     "execution_count": 387,
     "metadata": {},
     "output_type": "execute_result"
    }
   ],
   "source": [
    "Train"
   ]
  },
  {
   "cell_type": "code",
   "execution_count": 388,
   "metadata": {},
   "outputs": [],
   "source": [
    "from sklearn.linear_model import LinearRegression\n",
    "from sklearn.model_selection import train_test_split\n",
    "from sklearn.metrics import mean_absolute_error"
   ]
  },
  {
   "cell_type": "code",
   "execution_count": 389,
   "metadata": {},
   "outputs": [],
   "source": [
    "X_train,X_test,y_train,y_test=train_test_split(Train,UnitPrice,test_size=0.040,random_state=8,shuffle=True)"
   ]
  },
  {
   "cell_type": "code",
   "execution_count": 390,
   "metadata": {},
   "outputs": [
    {
     "data": {
      "text/html": [
       "<div>\n",
       "<style scoped>\n",
       "    .dataframe tbody tr th:only-of-type {\n",
       "        vertical-align: middle;\n",
       "    }\n",
       "\n",
       "    .dataframe tbody tr th {\n",
       "        vertical-align: top;\n",
       "    }\n",
       "\n",
       "    .dataframe thead th {\n",
       "        text-align: right;\n",
       "    }\n",
       "</style>\n",
       "<table border=\"1\" class=\"dataframe\">\n",
       "  <thead>\n",
       "    <tr style=\"text-align: right;\">\n",
       "      <th></th>\n",
       "      <th>InvoiceNo</th>\n",
       "      <th>StockCode</th>\n",
       "      <th>Hour</th>\n",
       "      <th>Year</th>\n",
       "    </tr>\n",
       "  </thead>\n",
       "  <tbody>\n",
       "    <tr>\n",
       "      <th>16219</th>\n",
       "      <td>13203</td>\n",
       "      <td>82</td>\n",
       "      <td>15</td>\n",
       "      <td>2011</td>\n",
       "    </tr>\n",
       "    <tr>\n",
       "      <th>265651</th>\n",
       "      <td>9302</td>\n",
       "      <td>392</td>\n",
       "      <td>12</td>\n",
       "      <td>2011</td>\n",
       "    </tr>\n",
       "    <tr>\n",
       "      <th>123618</th>\n",
       "      <td>8988</td>\n",
       "      <td>425</td>\n",
       "      <td>11</td>\n",
       "      <td>2011</td>\n",
       "    </tr>\n",
       "    <tr>\n",
       "      <th>74664</th>\n",
       "      <td>1552</td>\n",
       "      <td>284</td>\n",
       "      <td>12</td>\n",
       "      <td>2011</td>\n",
       "    </tr>\n",
       "    <tr>\n",
       "      <th>52127</th>\n",
       "      <td>2537</td>\n",
       "      <td>2812</td>\n",
       "      <td>15</td>\n",
       "      <td>2011</td>\n",
       "    </tr>\n",
       "    <tr>\n",
       "      <th>...</th>\n",
       "      <td>...</td>\n",
       "      <td>...</td>\n",
       "      <td>...</td>\n",
       "      <td>...</td>\n",
       "    </tr>\n",
       "    <tr>\n",
       "      <th>134250</th>\n",
       "      <td>4255</td>\n",
       "      <td>2712</td>\n",
       "      <td>15</td>\n",
       "      <td>2011</td>\n",
       "    </tr>\n",
       "    <tr>\n",
       "      <th>278173</th>\n",
       "      <td>5591</td>\n",
       "      <td>1356</td>\n",
       "      <td>13</td>\n",
       "      <td>2011</td>\n",
       "    </tr>\n",
       "    <tr>\n",
       "      <th>39881</th>\n",
       "      <td>13263</td>\n",
       "      <td>2115</td>\n",
       "      <td>16</td>\n",
       "      <td>2011</td>\n",
       "    </tr>\n",
       "    <tr>\n",
       "      <th>115328</th>\n",
       "      <td>18249</td>\n",
       "      <td>2658</td>\n",
       "      <td>14</td>\n",
       "      <td>2011</td>\n",
       "    </tr>\n",
       "    <tr>\n",
       "      <th>240776</th>\n",
       "      <td>2882</td>\n",
       "      <td>1111</td>\n",
       "      <td>15</td>\n",
       "      <td>2011</td>\n",
       "    </tr>\n",
       "  </tbody>\n",
       "</table>\n",
       "<p>11392 rows × 4 columns</p>\n",
       "</div>"
      ],
      "text/plain": [
       "        InvoiceNo  StockCode  Hour  Year\n",
       "16219       13203         82    15  2011\n",
       "265651       9302        392    12  2011\n",
       "123618       8988        425    11  2011\n",
       "74664        1552        284    12  2011\n",
       "52127        2537       2812    15  2011\n",
       "...           ...        ...   ...   ...\n",
       "134250       4255       2712    15  2011\n",
       "278173       5591       1356    13  2011\n",
       "39881       13263       2115    16  2011\n",
       "115328      18249       2658    14  2011\n",
       "240776       2882       1111    15  2011\n",
       "\n",
       "[11392 rows x 4 columns]"
      ]
     },
     "execution_count": 390,
     "metadata": {},
     "output_type": "execute_result"
    }
   ],
   "source": [
    "X_test"
   ]
  },
  {
   "cell_type": "code",
   "execution_count": 391,
   "metadata": {},
   "outputs": [],
   "source": [
    "model=LinearRegression(normalize=True)\n",
    "model.fit(X_train,y_train)\n",
    "out=model.predict(X_test)"
   ]
  },
  {
   "cell_type": "code",
   "execution_count": 392,
   "metadata": {},
   "outputs": [
    {
     "data": {
      "text/plain": [
       "(11392,)"
      ]
     },
     "execution_count": 392,
     "metadata": {},
     "output_type": "execute_result"
    }
   ],
   "source": [
    "out.shape"
   ]
  },
  {
   "cell_type": "code",
   "execution_count": 393,
   "metadata": {},
   "outputs": [
    {
     "data": {
      "text/plain": [
       "2.812037084226601"
      ]
     },
     "execution_count": 393,
     "metadata": {},
     "output_type": "execute_result"
    }
   ],
   "source": [
    "val_mae = mean_absolute_error(y_test,out)\n",
    "val_mae"
   ]
  },
  {
   "cell_type": "code",
   "execution_count": 394,
   "metadata": {},
   "outputs": [
    {
     "data": {
      "text/html": [
       "<div>\n",
       "<style scoped>\n",
       "    .dataframe tbody tr th:only-of-type {\n",
       "        vertical-align: middle;\n",
       "    }\n",
       "\n",
       "    .dataframe tbody tr th {\n",
       "        vertical-align: top;\n",
       "    }\n",
       "\n",
       "    .dataframe thead th {\n",
       "        text-align: right;\n",
       "    }\n",
       "</style>\n",
       "<table border=\"1\" class=\"dataframe\">\n",
       "  <thead>\n",
       "    <tr style=\"text-align: right;\">\n",
       "      <th></th>\n",
       "      <th>InvoiceNo</th>\n",
       "      <th>StockCode</th>\n",
       "      <th>Description</th>\n",
       "      <th>Quantity</th>\n",
       "      <th>InvoiceDate</th>\n",
       "      <th>CustomerID</th>\n",
       "      <th>Country</th>\n",
       "    </tr>\n",
       "  </thead>\n",
       "  <tbody>\n",
       "    <tr>\n",
       "      <th>0</th>\n",
       "      <td>3139</td>\n",
       "      <td>1709</td>\n",
       "      <td>1079</td>\n",
       "      <td>3</td>\n",
       "      <td>2011-02-22 15:22:00</td>\n",
       "      <td>16161.0</td>\n",
       "      <td>35</td>\n",
       "    </tr>\n",
       "    <tr>\n",
       "      <th>1</th>\n",
       "      <td>617</td>\n",
       "      <td>510</td>\n",
       "      <td>3457</td>\n",
       "      <td>1</td>\n",
       "      <td>2010-12-08 12:46:00</td>\n",
       "      <td>17341.0</td>\n",
       "      <td>35</td>\n",
       "    </tr>\n",
       "    <tr>\n",
       "      <th>2</th>\n",
       "      <td>14653</td>\n",
       "      <td>604</td>\n",
       "      <td>694</td>\n",
       "      <td>36</td>\n",
       "      <td>2011-10-25 13:53:00</td>\n",
       "      <td>15158.0</td>\n",
       "      <td>35</td>\n",
       "    </tr>\n",
       "    <tr>\n",
       "      <th>3</th>\n",
       "      <td>8634</td>\n",
       "      <td>1478</td>\n",
       "      <td>3473</td>\n",
       "      <td>2</td>\n",
       "      <td>2011-06-27 12:38:00</td>\n",
       "      <td>16033.0</td>\n",
       "      <td>35</td>\n",
       "    </tr>\n",
       "    <tr>\n",
       "      <th>4</th>\n",
       "      <td>15546</td>\n",
       "      <td>3216</td>\n",
       "      <td>871</td>\n",
       "      <td>1</td>\n",
       "      <td>2011-11-06 16:14:00</td>\n",
       "      <td>15351.0</td>\n",
       "      <td>35</td>\n",
       "    </tr>\n",
       "    <tr>\n",
       "      <th>...</th>\n",
       "      <td>...</td>\n",
       "      <td>...</td>\n",
       "      <td>...</td>\n",
       "      <td>...</td>\n",
       "      <td>...</td>\n",
       "      <td>...</td>\n",
       "      <td>...</td>\n",
       "    </tr>\n",
       "    <tr>\n",
       "      <th>122044</th>\n",
       "      <td>7813</td>\n",
       "      <td>2487</td>\n",
       "      <td>1289</td>\n",
       "      <td>12</td>\n",
       "      <td>2011-06-09 09:44:00</td>\n",
       "      <td>15214.0</td>\n",
       "      <td>35</td>\n",
       "    </tr>\n",
       "    <tr>\n",
       "      <th>122045</th>\n",
       "      <td>8694</td>\n",
       "      <td>3069</td>\n",
       "      <td>217</td>\n",
       "      <td>16</td>\n",
       "      <td>2011-06-28 15:47:00</td>\n",
       "      <td>16200.0</td>\n",
       "      <td>35</td>\n",
       "    </tr>\n",
       "    <tr>\n",
       "      <th>122046</th>\n",
       "      <td>915</td>\n",
       "      <td>1419</td>\n",
       "      <td>3474</td>\n",
       "      <td>6</td>\n",
       "      <td>2010-12-13 12:26:00</td>\n",
       "      <td>15555.0</td>\n",
       "      <td>35</td>\n",
       "    </tr>\n",
       "    <tr>\n",
       "      <th>122047</th>\n",
       "      <td>8156</td>\n",
       "      <td>1631</td>\n",
       "      <td>1434</td>\n",
       "      <td>1</td>\n",
       "      <td>2011-06-16 12:45:00</td>\n",
       "      <td>15907.0</td>\n",
       "      <td>35</td>\n",
       "    </tr>\n",
       "    <tr>\n",
       "      <th>122048</th>\n",
       "      <td>12020</td>\n",
       "      <td>2088</td>\n",
       "      <td>706</td>\n",
       "      <td>3</td>\n",
       "      <td>2011-09-12 13:50:00</td>\n",
       "      <td>16360.0</td>\n",
       "      <td>35</td>\n",
       "    </tr>\n",
       "  </tbody>\n",
       "</table>\n",
       "<p>122049 rows × 7 columns</p>\n",
       "</div>"
      ],
      "text/plain": [
       "        InvoiceNo  StockCode  Description  Quantity         InvoiceDate  \\\n",
       "0            3139       1709         1079         3 2011-02-22 15:22:00   \n",
       "1             617        510         3457         1 2010-12-08 12:46:00   \n",
       "2           14653        604          694        36 2011-10-25 13:53:00   \n",
       "3            8634       1478         3473         2 2011-06-27 12:38:00   \n",
       "4           15546       3216          871         1 2011-11-06 16:14:00   \n",
       "...           ...        ...          ...       ...                 ...   \n",
       "122044       7813       2487         1289        12 2011-06-09 09:44:00   \n",
       "122045       8694       3069          217        16 2011-06-28 15:47:00   \n",
       "122046        915       1419         3474         6 2010-12-13 12:26:00   \n",
       "122047       8156       1631         1434         1 2011-06-16 12:45:00   \n",
       "122048      12020       2088          706         3 2011-09-12 13:50:00   \n",
       "\n",
       "        CustomerID  Country  \n",
       "0          16161.0       35  \n",
       "1          17341.0       35  \n",
       "2          15158.0       35  \n",
       "3          16033.0       35  \n",
       "4          15351.0       35  \n",
       "...            ...      ...  \n",
       "122044     15214.0       35  \n",
       "122045     16200.0       35  \n",
       "122046     15555.0       35  \n",
       "122047     15907.0       35  \n",
       "122048     16360.0       35  \n",
       "\n",
       "[122049 rows x 7 columns]"
      ]
     },
     "execution_count": 394,
     "metadata": {},
     "output_type": "execute_result"
    }
   ],
   "source": [
    "test"
   ]
  },
  {
   "cell_type": "code",
   "execution_count": 395,
   "metadata": {},
   "outputs": [
    {
     "data": {
      "text/plain": [
       "0         2011\n",
       "1         2010\n",
       "2         2011\n",
       "3         2011\n",
       "4         2011\n",
       "          ... \n",
       "122044    2011\n",
       "122045    2011\n",
       "122046    2010\n",
       "122047    2011\n",
       "122048    2011\n",
       "Name: InvoiceDate, Length: 122049, dtype: int64"
      ]
     },
     "execution_count": 395,
     "metadata": {},
     "output_type": "execute_result"
    }
   ],
   "source": [
    "test_hour=test.InvoiceDate.dt.hour\n",
    "test_year=test.InvoiceDate.dt.year\n",
    "test_year"
   ]
  },
  {
   "cell_type": "code",
   "execution_count": 396,
   "metadata": {},
   "outputs": [],
   "source": [
    "TRY_Test=test.drop(columns =[\"Description\",\"Quantity\",\"InvoiceDate\",\"CustomerID\",\"Country\"])"
   ]
  },
  {
   "cell_type": "code",
   "execution_count": 397,
   "metadata": {},
   "outputs": [],
   "source": [
    "Test=pd.concat([TRY_Test,test_hour,test_year ],axis=1)"
   ]
  },
  {
   "cell_type": "code",
   "execution_count": 398,
   "metadata": {},
   "outputs": [
    {
     "data": {
      "text/html": [
       "<div>\n",
       "<style scoped>\n",
       "    .dataframe tbody tr th:only-of-type {\n",
       "        vertical-align: middle;\n",
       "    }\n",
       "\n",
       "    .dataframe tbody tr th {\n",
       "        vertical-align: top;\n",
       "    }\n",
       "\n",
       "    .dataframe thead th {\n",
       "        text-align: right;\n",
       "    }\n",
       "</style>\n",
       "<table border=\"1\" class=\"dataframe\">\n",
       "  <thead>\n",
       "    <tr style=\"text-align: right;\">\n",
       "      <th></th>\n",
       "      <th>InvoiceNo</th>\n",
       "      <th>StockCode</th>\n",
       "      <th>InvoiceDate</th>\n",
       "      <th>InvoiceDate</th>\n",
       "    </tr>\n",
       "  </thead>\n",
       "  <tbody>\n",
       "    <tr>\n",
       "      <th>0</th>\n",
       "      <td>3139</td>\n",
       "      <td>1709</td>\n",
       "      <td>15</td>\n",
       "      <td>2011</td>\n",
       "    </tr>\n",
       "    <tr>\n",
       "      <th>1</th>\n",
       "      <td>617</td>\n",
       "      <td>510</td>\n",
       "      <td>12</td>\n",
       "      <td>2010</td>\n",
       "    </tr>\n",
       "    <tr>\n",
       "      <th>2</th>\n",
       "      <td>14653</td>\n",
       "      <td>604</td>\n",
       "      <td>13</td>\n",
       "      <td>2011</td>\n",
       "    </tr>\n",
       "    <tr>\n",
       "      <th>3</th>\n",
       "      <td>8634</td>\n",
       "      <td>1478</td>\n",
       "      <td>12</td>\n",
       "      <td>2011</td>\n",
       "    </tr>\n",
       "    <tr>\n",
       "      <th>4</th>\n",
       "      <td>15546</td>\n",
       "      <td>3216</td>\n",
       "      <td>16</td>\n",
       "      <td>2011</td>\n",
       "    </tr>\n",
       "    <tr>\n",
       "      <th>...</th>\n",
       "      <td>...</td>\n",
       "      <td>...</td>\n",
       "      <td>...</td>\n",
       "      <td>...</td>\n",
       "    </tr>\n",
       "    <tr>\n",
       "      <th>122044</th>\n",
       "      <td>7813</td>\n",
       "      <td>2487</td>\n",
       "      <td>9</td>\n",
       "      <td>2011</td>\n",
       "    </tr>\n",
       "    <tr>\n",
       "      <th>122045</th>\n",
       "      <td>8694</td>\n",
       "      <td>3069</td>\n",
       "      <td>15</td>\n",
       "      <td>2011</td>\n",
       "    </tr>\n",
       "    <tr>\n",
       "      <th>122046</th>\n",
       "      <td>915</td>\n",
       "      <td>1419</td>\n",
       "      <td>12</td>\n",
       "      <td>2010</td>\n",
       "    </tr>\n",
       "    <tr>\n",
       "      <th>122047</th>\n",
       "      <td>8156</td>\n",
       "      <td>1631</td>\n",
       "      <td>12</td>\n",
       "      <td>2011</td>\n",
       "    </tr>\n",
       "    <tr>\n",
       "      <th>122048</th>\n",
       "      <td>12020</td>\n",
       "      <td>2088</td>\n",
       "      <td>13</td>\n",
       "      <td>2011</td>\n",
       "    </tr>\n",
       "  </tbody>\n",
       "</table>\n",
       "<p>122049 rows × 4 columns</p>\n",
       "</div>"
      ],
      "text/plain": [
       "        InvoiceNo  StockCode  InvoiceDate  InvoiceDate\n",
       "0            3139       1709           15         2011\n",
       "1             617        510           12         2010\n",
       "2           14653        604           13         2011\n",
       "3            8634       1478           12         2011\n",
       "4           15546       3216           16         2011\n",
       "...           ...        ...          ...          ...\n",
       "122044       7813       2487            9         2011\n",
       "122045       8694       3069           15         2011\n",
       "122046        915       1419           12         2010\n",
       "122047       8156       1631           12         2011\n",
       "122048      12020       2088           13         2011\n",
       "\n",
       "[122049 rows x 4 columns]"
      ]
     },
     "execution_count": 398,
     "metadata": {},
     "output_type": "execute_result"
    }
   ],
   "source": [
    "Test"
   ]
  },
  {
   "cell_type": "code",
   "execution_count": 399,
   "metadata": {},
   "outputs": [],
   "source": [
    "Test.columns=[\"InvoiceNo\",\"StockCode\",\"Hour\",\"Year\"]"
   ]
  },
  {
   "cell_type": "code",
   "execution_count": 400,
   "metadata": {},
   "outputs": [
    {
     "data": {
      "text/html": [
       "<div>\n",
       "<style scoped>\n",
       "    .dataframe tbody tr th:only-of-type {\n",
       "        vertical-align: middle;\n",
       "    }\n",
       "\n",
       "    .dataframe tbody tr th {\n",
       "        vertical-align: top;\n",
       "    }\n",
       "\n",
       "    .dataframe thead th {\n",
       "        text-align: right;\n",
       "    }\n",
       "</style>\n",
       "<table border=\"1\" class=\"dataframe\">\n",
       "  <thead>\n",
       "    <tr style=\"text-align: right;\">\n",
       "      <th></th>\n",
       "      <th>InvoiceNo</th>\n",
       "      <th>StockCode</th>\n",
       "      <th>Hour</th>\n",
       "      <th>Year</th>\n",
       "    </tr>\n",
       "  </thead>\n",
       "  <tbody>\n",
       "    <tr>\n",
       "      <th>0</th>\n",
       "      <td>3139</td>\n",
       "      <td>1709</td>\n",
       "      <td>15</td>\n",
       "      <td>2011</td>\n",
       "    </tr>\n",
       "    <tr>\n",
       "      <th>1</th>\n",
       "      <td>617</td>\n",
       "      <td>510</td>\n",
       "      <td>12</td>\n",
       "      <td>2010</td>\n",
       "    </tr>\n",
       "    <tr>\n",
       "      <th>2</th>\n",
       "      <td>14653</td>\n",
       "      <td>604</td>\n",
       "      <td>13</td>\n",
       "      <td>2011</td>\n",
       "    </tr>\n",
       "    <tr>\n",
       "      <th>3</th>\n",
       "      <td>8634</td>\n",
       "      <td>1478</td>\n",
       "      <td>12</td>\n",
       "      <td>2011</td>\n",
       "    </tr>\n",
       "    <tr>\n",
       "      <th>4</th>\n",
       "      <td>15546</td>\n",
       "      <td>3216</td>\n",
       "      <td>16</td>\n",
       "      <td>2011</td>\n",
       "    </tr>\n",
       "  </tbody>\n",
       "</table>\n",
       "</div>"
      ],
      "text/plain": [
       "   InvoiceNo  StockCode  Hour  Year\n",
       "0       3139       1709    15  2011\n",
       "1        617        510    12  2010\n",
       "2      14653        604    13  2011\n",
       "3       8634       1478    12  2011\n",
       "4      15546       3216    16  2011"
      ]
     },
     "execution_count": 400,
     "metadata": {},
     "output_type": "execute_result"
    }
   ],
   "source": [
    "Test.head()"
   ]
  },
  {
   "cell_type": "code",
   "execution_count": 401,
   "metadata": {},
   "outputs": [],
   "source": [
    "final=model.predict(Test)"
   ]
  },
  {
   "cell_type": "code",
   "execution_count": 402,
   "metadata": {},
   "outputs": [
    {
     "data": {
      "text/plain": [
       "(122049,)"
      ]
     },
     "execution_count": 402,
     "metadata": {},
     "output_type": "execute_result"
    }
   ],
   "source": [
    "final.shape\n"
   ]
  },
  {
   "cell_type": "code",
   "execution_count": 404,
   "metadata": {},
   "outputs": [
    {
     "data": {
      "text/html": [
       "<a href='submit1.1.csv' target='_blank'>submit1.1.csv</a><br>"
      ],
      "text/plain": [
       "C:\\Users\\Nandhu\\Music\\submit1.1.csv"
      ]
     },
     "execution_count": 404,
     "metadata": {},
     "output_type": "execute_result"
    }
   ],
   "source": [
    "submit=pd.DataFrame({'UnitPrice':final})\n",
    "submit.to_csv('submit1.1.csv', index = False)\n",
    "from IPython.display import FileLink\n",
    "FileLink(r'submit1.1.csv')"
   ]
  },
  {
   "cell_type": "code",
   "execution_count": null,
   "metadata": {},
   "outputs": [],
   "source": []
  }
 ],
 "metadata": {
  "kernelspec": {
   "display_name": "Python 3",
   "language": "python",
   "name": "python3"
  },
  "language_info": {
   "codemirror_mode": {
    "name": "ipython",
    "version": 3
   },
   "file_extension": ".py",
   "mimetype": "text/x-python",
   "name": "python",
   "nbconvert_exporter": "python",
   "pygments_lexer": "ipython3",
   "version": "3.8.3"
  }
 },
 "nbformat": 4,
 "nbformat_minor": 4
}
